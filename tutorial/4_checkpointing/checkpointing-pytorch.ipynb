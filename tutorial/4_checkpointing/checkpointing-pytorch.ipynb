{
 "cells": [
  {
   "cell_type": "markdown",
   "metadata": {},
   "source": [
    "# Checkpointing with PyTorch\n",
    "In this notebook we will go through checkpointing your model with PyTorch.\n",
    "\n",
    "## Setting up model and dataset\n",
    "For this example we will use [Tiny ImageNet](https://www.kaggle.com/c/tiny-imagenet/overview) which is similar to ImageNet but lower resolution (64x64), fewer images (100 k) and fewer labels (200). For this dataset we will use a variant of the ResNet architecture wich is a type of Convolutional Neural Network with residual connections. For the sake of this tutorial you do not need to understand the details about the model or the dataset."
   ]
  },
  {
   "cell_type": "code",
   "execution_count": null,
   "metadata": {},
   "outputs": [],
   "source": [
    "import os\n",
    "import torch\n",
    "from torchvision.models import resnet18\n",
    "from pytorch_dataset import TinyImageNetDataset \n",
    "from torch import nn, optim\n",
    "from torch.utils.data import DataLoader\n",
    "\n",
    "# For performance set precision,\n",
    "# see https://www.c3se.chalmers.se/documentation/applications/pytorch/#performance-and-precision\n",
    "torch.set_float32_matmul_precision(\"high\")"
   ]
  },
  {
   "cell_type": "code",
   "execution_count": null,
   "metadata": {},
   "outputs": [],
   "source": [
    "# Use the custom dataset class from pytorch_dataset.py\n",
    "train_dataset = TinyImageNetDataset(path_to_dataset='/mimer/NOBACKUP/Datasets/tiny-imagenet-200/tiny-imagenet-200.zip', split='train')\n",
    "val_dataset = TinyImageNetDataset(path_to_dataset='/mimer/NOBACKUP/Datasets/tiny-imagenet-200/tiny-imagenet-200.zip', split='val')\n",
    "\n",
    "\n",
    "load_kws = dict(\n",
    "    num_workers=4,\n",
    "    batch_size=512,\n",
    "    prefetch_factor=512,\n",
    ")\n",
    "\n",
    "train_loader = DataLoader(train_dataset, shuffle=True, **load_kws)\n",
    "val_loader = DataLoader(val_dataset, shuffle=False, **load_kws)\n",
    "\n",
    "# ResNet-18 setup\n",
    "pretrained = False\n",
    "model = resnet18(weights=None, num_classes=200)\n",
    "if pretrained:\n",
    "    pretrained_state_dict = resnet18(weights=\"IMAGENET1K_V2\", num_classes=1000).state_dict()\n",
    "    for key in [\"fc.weight\", \"fc.bias\"]:\n",
    "        del pretrained_state_dict[key]\n",
    "    model.load_state_dict(pretrained_state_dict, strict=False)\n",
    "\n",
    "# Optimizer setup\n",
    "opt = optim.SGD(model.parameters(), lr=0.005, momentum=0.9)\n"
   ]
  },
  {
   "cell_type": "markdown",
   "metadata": {},
   "source": [
    "Now we come to the important part, the training. In this part we will have to include the checkpointing steps."
   ]
  },
  {
   "cell_type": "code",
   "execution_count": null,
   "metadata": {},
   "outputs": [],
   "source": [
    "loss_func = nn.CrossEntropyLoss()\n",
    "device = torch.device(\"cuda\" if torch.cuda.is_available() else \"cpu\")\n",
    "\n",
    "def train(model, opt, n_epochs, checkpoint_path, device=device):\n",
    "    model = model.to(device)\n",
    "    \n",
    "    n_batches = len(train_loader)\n",
    "    total_steps = n_epochs * n_batches\n",
    "    counter = 0\n",
    "    \n",
    "    for epoch in range(n_epochs):\n",
    "        \n",
    "        # Training epoch\n",
    "        model.train()\n",
    "        train_loss = 0.0\n",
    "        for images, labels in train_loader:\n",
    "            images = images.to(device)\n",
    "            labels = labels.to(device)\n",
    "            \n",
    "            opt.zero_grad()\n",
    "            \n",
    "            # Forward pass\n",
    "            est = model(images)\n",
    "            \n",
    "            # Calculate loss and backpropagate\n",
    "            loss = loss_func(est, labels)\n",
    "            loss.backward()\n",
    "            opt.step()\n",
    "            train_loss += loss.item()\n",
    "            \n",
    "            counter += 1\n",
    "            print(f\"\\rProgress: {100 * counter / total_steps:4.1f} %  ({counter}/{total_steps})\", end=\"\")\n",
    "        \n",
    "        # Average training loss\n",
    "        train_loss /= n_batches\n",
    "        \n",
    "        # Validation\n",
    "        val_loss, val_acc = validate(model, device=device)\n",
    "        print(f\"\\rEpoch {epoch}, Train loss {train_loss}, Val loss {val_loss}, Val acc {val_acc}\")\n",
    "\n",
    "        # Save checkpoint\n",
    "        torch.save({\n",
    "            \"epoch\": epoch,\n",
    "            \"model_state_dict\": model.state_dict(),\n",
    "            \"optimizer_state_dict\": opt.state_dict(),\n",
    "        }, checkpoint_path)\n",
    "\n",
    "\n",
    "def validate(model, device=device):\n",
    "    model.to(device)\n",
    "    model.eval()\n",
    "    with torch.no_grad():\n",
    "        loss = 0.0\n",
    "        n_batches = len(val_loader)\n",
    "        correct = 0\n",
    "        total = 0\n",
    "        for images, labels in val_loader:\n",
    "            images = images.to(device)\n",
    "            labels = labels.to(device)\n",
    "            \n",
    "            # Forward pass\n",
    "            est = model(images)\n",
    "            loss += loss_func(est, labels).item()\n",
    "            #acc = (labels == est.argmax(1)).float().mean().item()\n",
    "            \n",
    "            # Accuracy calculation\n",
    "            _, predicted = torch.max(est, 1)\n",
    "            correct += (predicted == labels).sum().item()\n",
    "            total += labels.size(0)\n",
    "        \n",
    "        # Average loss and accuracy\n",
    "        loss /= n_batches\n",
    "        acc = correct / total\n",
    "\n",
    "        return loss, acc\n"
   ]
  },
  {
   "cell_type": "code",
   "execution_count": null,
   "metadata": {},
   "outputs": [],
   "source": [
    "%%time\n",
    "train(model, opt, n_epochs=5, checkpoint_path=\"checkpoint.pt\")"
   ]
  },
  {
   "cell_type": "code",
   "execution_count": null,
   "metadata": {},
   "outputs": [],
   "source": [
    "model = resnet18(weights=None, num_classes=200)\n",
    "checkpoint = torch.load(\"checkpoint.pt\")\n",
    "model.load_state_dict(checkpoint[\"model_state_dict\"])\n"
   ]
  },
  {
   "cell_type": "code",
   "execution_count": null,
   "metadata": {},
   "outputs": [],
   "source": [
    "# Ensure the model is in evaluation mode\n",
    "# model.eval()"
   ]
  },
  {
   "cell_type": "code",
   "execution_count": null,
   "metadata": {},
   "outputs": [],
   "source": [
    "loss, acc = validate(model)\n",
    "print(f'''\n",
    "Validation loss: {loss:.4f}\n",
    "Accuracy:        {acc:.4f}''')"
   ]
  },
  {
   "cell_type": "markdown",
   "metadata": {},
   "source": [
    "## Excercises\n",
    "1. Write a `train_from_checkpoint` function below that given the path to a checkpoint continues training from there\n",
    "2. Modify the `train_from_checkpoint` function to also save the best checkpoint so far"
   ]
  },
  {
   "cell_type": "code",
   "execution_count": null,
   "metadata": {},
   "outputs": [],
   "source": []
  }
 ],
 "metadata": {
  "kernelspec": {
   "display_name": "Python 3 (ipykernel)",
   "language": "python",
   "name": "python3"
  },
  "language_info": {
   "codemirror_mode": {
    "name": "ipython",
    "version": 3
   },
   "file_extension": ".py",
   "mimetype": "text/x-python",
   "name": "python",
   "nbconvert_exporter": "python",
   "pygments_lexer": "ipython3",
   "version": "3.11.3"
  }
 },
 "nbformat": 4,
 "nbformat_minor": 4
}
